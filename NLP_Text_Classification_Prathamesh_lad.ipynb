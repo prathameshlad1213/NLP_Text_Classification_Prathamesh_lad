{
  "nbformat": 4,
  "nbformat_minor": 0,
  "metadata": {
    "colab": {
      "provenance": [],
      "gpuType": "T4"
    },
    "kernelspec": {
      "name": "python3",
      "display_name": "Python 3"
    },
    "language_info": {
      "name": "python"
    },
    "accelerator": "GPU"
  },
  "cells": [
    {
      "cell_type": "markdown",
      "source": [
        "# Google Colab Lab Assignment -NLP\n",
        "\n",
        "**Course Name:** Deel Learning\n",
        "\n",
        "**Lab Title:** NLP Techniques for Text Classification\n",
        "\n",
        "**Student Name:** Prathamesh Lad\n",
        "\n",
        "**Student ID:** 20220040131\n",
        "\n",
        "\n",
        "**Group Members**: Prathamesh lad\n",
        "\n",
        "Rushikesh Sawant\n",
        "\n",
        "Krushna Aware\n",
        "\n",
        "\n",
        "**Objective**\n",
        "The objective of this assignment is to implement NLP preprocessing techniques and build a text classification model using machine learning techniques.\n",
        "\n",
        "\n"
      ],
      "metadata": {
        "id": "qfwaeuSgcupl"
      }
    },
    {
      "cell_type": "markdown",
      "source": [
        "**Learning Outcomes:**\n",
        "\n",
        "1. Understand and apply NLP preprocessing techniques such as tokenization, stopword removal, stemming, and lemmatization.\n",
        "\n",
        "2. Implement text vectorization techniques such as TF-IDF and CountVectorizer.\n",
        "\n",
        "3. Develop a text classification model using a machine learning algorithm.\n",
        "\n",
        "4. Evaluate the performance of the model using suitable metrics."
      ],
      "metadata": {
        "id": "nN1DLv3exqNw"
      }
    },
    {
      "cell_type": "markdown",
      "source": [
        "# **Assignment Instructions:**"
      ],
      "metadata": {
        "id": "jvYJRtGTI32Y"
      }
    },
    {
      "cell_type": "markdown",
      "source": [
        "**Part 1: NLP Preprocessing**\n",
        "\n",
        "**Dataset Selection:**\n",
        "\n",
        "Choose any text dataset from **Best Datasets for Text** https://en.innovatiana.com/post/best-datasets-for-text-classification Classification, such as SMS Spam Collection, IMDb Reviews, or any other relevant dataset.\n",
        "\n",
        "Download the dataset and upload it to Google Colab.\n",
        "\n",
        "Load the dataset into a Pandas DataFrame and explore its structure (e.g., check missing values, data types, and label distribution).\n",
        "\n",
        "Text Preprocessing:\n",
        "\n",
        "Convert text to lowercase.\n",
        "\n",
        "Perform tokenization using NLTK or spaCy.\n",
        "\n",
        "Remove stopwords using NLTK or spaCy.\n",
        "\n",
        "Apply stemming using PorterStemmer or SnowballStemmer.\n",
        "\n",
        "Apply lemmatization using WordNetLemmatizer.\n",
        "\n",
        "Vectorization Techniques:\n",
        "\n",
        "Convert text data into numerical format using TF-IDF and CountVectorizer.\n",
        "\n"
      ],
      "metadata": {
        "id": "hPA-RFjFc3hF"
      }
    },
    {
      "cell_type": "code",
      "source": [
        "# --- Install Required Libraries ---\n",
        "!pip install nltk scikit-learn pandas\n",
        "\n",
        "# --- Import Libraries ---\n",
        "import pandas as pd\n",
        "import numpy as np\n",
        "import re\n",
        "import nltk\n",
        "import matplotlib.pyplot as plt\n",
        "import seaborn as sns\n",
        "\n",
        "# --- Download only needed NLTK Resources ---\n",
        "nltk.download('stopwords')\n",
        "nltk.download('wordnet')\n",
        "\n",
        "# No punkt needed!\n",
        "\n",
        "from nltk.corpus import stopwords\n",
        "from nltk.stem import PorterStemmer, WordNetLemmatizer\n",
        "\n",
        "# --- Dataset Selection ---\n",
        "# You can choose any text dataset from the following link:\n",
        "# Best Datasets for Text Classification: https://en.innovatiana.com/post/best-datasets-for-text-classification\n",
        "# In this example, we'll use the SMS Spam Collection dataset.\n",
        "\n",
        "# Load dataset\n",
        "url = \"https://raw.githubusercontent.com/justmarkham/pycon-2016-tutorial/master/data/sms.tsv\"\n",
        "df = pd.read_csv(url, sep='\\t', header=None, names=['label', 'text'])\n",
        "\n",
        "# --- Explore Dataset ---\n",
        "print(\"First 5 rows of the dataset:\")\n",
        "print(df.head())\n",
        "print(\"\\nDataset Information:\")\n",
        "print(df.info())\n",
        "print(\"\\nLabel Distribution:\")\n",
        "print(df['label'].value_counts())\n",
        "\n",
        "# --- Text Preprocessing ---\n",
        "# 1. Convert text to lowercase\n",
        "df['text'] = df['text'].str.lower()\n",
        "\n",
        "# 2. Tokenization WITHOUT PUNKT (using regex)\n",
        "def simple_tokenize(text):\n",
        "    # Only keep words (no punctuation), split by spaces\n",
        "    tokens = re.findall(r'\\b\\w+\\b', text)\n",
        "    return tokens\n",
        "\n",
        "df['tokens'] = df['text'].apply(simple_tokenize)\n",
        "\n",
        "# 3. Remove stopwords\n",
        "stop_words = set(stopwords.words('english'))\n",
        "df['tokens'] = df['tokens'].apply(lambda x: [word for word in x if word not in stop_words])\n",
        "\n",
        "# 4. Stemming using PorterStemmer\n",
        "stemmer = PorterStemmer()\n",
        "df['stemmed'] = df['tokens'].apply(lambda x: [stemmer.stem(word) for word in x])\n",
        "\n",
        "# 5. Lemmatization using WordNetLemmatizer\n",
        "lemmatizer = WordNetLemmatizer()\n",
        "df['lemmatized'] = df['tokens'].apply(lambda x: [lemmatizer.lemmatize(word) for word in x])\n",
        "\n",
        "# 6. Join tokens back into clean text\n",
        "df['clean_text'] = df['lemmatized'].apply(lambda x: ' '.join(x))\n",
        "\n",
        "# --- Vectorization Techniques ---\n",
        "# Using CountVectorizer\n",
        "cv = CountVectorizer()\n",
        "X_cv = cv.fit_transform(df['clean_text'])\n",
        "\n",
        "# Using TF-IDF\n",
        "tfidf = TfidfVectorizer()\n",
        "X_tfidf = tfidf.fit_transform(df['clean_text'])\n",
        "\n",
        "# Encode labels as 0 for 'ham' and 1 for 'spam'\n",
        "y = df['label'].map({'ham': 0, 'spam': 1})\n",
        "\n",
        "# --- Summary of Preprocessing ---\n",
        "print(\"\\nText preprocessing complete!\")\n",
        "print(f\"Sample cleaned text: {df['clean_text'].head()}\")\n"
      ],
      "metadata": {
        "id": "eyOsrSoI3_GL",
        "outputId": "67de5070-f180-4fa0-9a85-93da33e357e7",
        "colab": {
          "base_uri": "https://localhost:8080/"
        }
      },
      "execution_count": null,
      "outputs": [
        {
          "output_type": "stream",
          "name": "stdout",
          "text": [
            "Requirement already satisfied: nltk in /usr/local/lib/python3.11/dist-packages (3.9.1)\n",
            "Requirement already satisfied: scikit-learn in /usr/local/lib/python3.11/dist-packages (1.6.1)\n",
            "Requirement already satisfied: pandas in /usr/local/lib/python3.11/dist-packages (2.2.2)\n",
            "Requirement already satisfied: click in /usr/local/lib/python3.11/dist-packages (from nltk) (8.1.8)\n",
            "Requirement already satisfied: joblib in /usr/local/lib/python3.11/dist-packages (from nltk) (1.4.2)\n",
            "Requirement already satisfied: regex>=2021.8.3 in /usr/local/lib/python3.11/dist-packages (from nltk) (2024.11.6)\n",
            "Requirement already satisfied: tqdm in /usr/local/lib/python3.11/dist-packages (from nltk) (4.67.1)\n",
            "Requirement already satisfied: numpy>=1.19.5 in /usr/local/lib/python3.11/dist-packages (from scikit-learn) (1.26.4)\n",
            "Requirement already satisfied: scipy>=1.6.0 in /usr/local/lib/python3.11/dist-packages (from scikit-learn) (1.13.1)\n",
            "Requirement already satisfied: threadpoolctl>=3.1.0 in /usr/local/lib/python3.11/dist-packages (from scikit-learn) (3.5.0)\n",
            "Requirement already satisfied: python-dateutil>=2.8.2 in /usr/local/lib/python3.11/dist-packages (from pandas) (2.8.2)\n",
            "Requirement already satisfied: pytz>=2020.1 in /usr/local/lib/python3.11/dist-packages (from pandas) (2025.1)\n",
            "Requirement already satisfied: tzdata>=2022.7 in /usr/local/lib/python3.11/dist-packages (from pandas) (2025.1)\n",
            "Requirement already satisfied: six>=1.5 in /usr/local/lib/python3.11/dist-packages (from python-dateutil>=2.8.2->pandas) (1.17.0)\n"
          ]
        },
        {
          "output_type": "stream",
          "name": "stderr",
          "text": [
            "[nltk_data] Downloading package stopwords to /root/nltk_data...\n",
            "[nltk_data]   Package stopwords is already up-to-date!\n",
            "[nltk_data] Downloading package wordnet to /root/nltk_data...\n",
            "[nltk_data]   Package wordnet is already up-to-date!\n"
          ]
        },
        {
          "output_type": "stream",
          "name": "stdout",
          "text": [
            "First 5 rows of the dataset:\n",
            "  label                                               text\n",
            "0   ham  Go until jurong point, crazy.. Available only ...\n",
            "1   ham                      Ok lar... Joking wif u oni...\n",
            "2  spam  Free entry in 2 a wkly comp to win FA Cup fina...\n",
            "3   ham  U dun say so early hor... U c already then say...\n",
            "4   ham  Nah I don't think he goes to usf, he lives aro...\n",
            "\n",
            "Dataset Information:\n",
            "<class 'pandas.core.frame.DataFrame'>\n",
            "RangeIndex: 5572 entries, 0 to 5571\n",
            "Data columns (total 2 columns):\n",
            " #   Column  Non-Null Count  Dtype \n",
            "---  ------  --------------  ----- \n",
            " 0   label   5572 non-null   object\n",
            " 1   text    5572 non-null   object\n",
            "dtypes: object(2)\n",
            "memory usage: 87.2+ KB\n",
            "None\n",
            "\n",
            "Label Distribution:\n",
            "label\n",
            "ham     4825\n",
            "spam     747\n",
            "Name: count, dtype: int64\n",
            "\n",
            "Text preprocessing complete!\n",
            "Sample cleaned text: 0    go jurong point crazy available bugis n great ...\n",
            "1                              ok lar joking wif u oni\n",
            "2    free entry 2 wkly comp win fa cup final tkts 2...\n",
            "3                  u dun say early hor u c already say\n",
            "4                  nah think go usf life around though\n",
            "Name: clean_text, dtype: object\n"
          ]
        }
      ]
    },
    {
      "cell_type": "markdown",
      "source": [
        "**Splitting the Data:**\n",
        "\n",
        "Divide the dataset into training and testing sets (e.g., 80% training, 20% testing).\n",
        "\n",
        "**Building the Classification Model:**\n",
        "\n",
        "Train a text classification model using Logistic Regression, Naïve Bayes, or any other suitable algorithm.\n",
        "\n",
        "Implement the model using scikit-learn.\n",
        "\n",
        "**Model Evaluation:**\n",
        "\n",
        "Evaluate the model using accuracy, precision, recall, and F1-score.\n",
        "\n",
        "Use a confusion matrix to visualize the results."
      ],
      "metadata": {
        "id": "CuEXacYmc8lm"
      }
    },
    {
      "cell_type": "code",
      "source": [
        "#code for Part 2\n",
        "\n",
        "# --- Splitting the Data ---\n",
        "from sklearn.model_selection import train_test_split\n",
        "\n",
        "# Divide the dataset into training and testing sets (80% training, 20% testing)\n",
        "X_train_cv, X_test_cv, y_train, y_test = train_test_split(X_cv, y, test_size=0.2, random_state=42)\n",
        "X_train_tfidf, X_test_tfidf, _, _ = train_test_split(X_tfidf, y, test_size=0.2, random_state=42)\n",
        "\n",
        "# --- Building the Classification Model ---\n",
        "from sklearn.linear_model import LogisticRegression\n",
        "model = LogisticRegression()\n",
        "\n",
        "# Train the model using CountVectorizer features\n",
        "model.fit(X_train_cv, y_train)\n",
        "\n",
        "# --- Model Prediction ---\n",
        "y_pred = model.predict(X_test_cv)\n",
        "\n",
        "# --- Model Evaluation ---\n",
        "from sklearn.metrics import accuracy_score, precision_score, recall_score, f1_score, confusion_matrix, classification_report\n",
        "\n",
        "# Evaluate the model using various metrics\n",
        "print(\"\\nClassification Report:\")\n",
        "print(classification_report(y_test, y_pred))\n",
        "\n",
        "# Accuracy, Precision, Recall, F1-Score\n",
        "print(f\"\\nAccuracy: {accuracy_score(y_test, y_pred):.4f}\")\n",
        "print(f\"Precision: {precision_score(y_test, y_pred):.4f}\")\n",
        "print(f\"Recall: {recall_score(y_test, y_pred):.4f}\")\n",
        "print(f\"F1 Score: {f1_score(y_test, y_pred):.4f}\")\n",
        "\n",
        "# --- Confusion Matrix ---\n",
        "cm = confusion_matrix(y_test, y_pred)\n",
        "plt.figure(figsize=(5,4))\n",
        "sns.heatmap(cm, annot=True, fmt='d', cmap='Greens')\n",
        "plt.title('Confusion Matrix')\n",
        "plt.xlabel('Predicted')\n",
        "plt.ylabel('Actual')\n",
        "plt.show()\n"
      ],
      "metadata": {
        "id": "-b2Z6SaydAfQ",
        "outputId": "27c51e20-da68-48a6-bedc-dc2e4ab086d9",
        "colab": {
          "base_uri": "https://localhost:8080/",
          "height": 682
        }
      },
      "execution_count": null,
      "outputs": [
        {
          "output_type": "stream",
          "name": "stdout",
          "text": [
            "\n",
            "Classification Report:\n",
            "              precision    recall  f1-score   support\n",
            "\n",
            "           0       0.98      1.00      0.99       966\n",
            "           1       1.00      0.88      0.94       149\n",
            "\n",
            "    accuracy                           0.98      1115\n",
            "   macro avg       0.99      0.94      0.96      1115\n",
            "weighted avg       0.98      0.98      0.98      1115\n",
            "\n",
            "\n",
            "Accuracy: 0.9839\n",
            "Precision: 1.0000\n",
            "Recall: 0.8792\n",
            "F1 Score: 0.9357\n"
          ]
        },
        {
          "output_type": "display_data",
          "data": {
            "text/plain": [
              "<Figure size 500x400 with 2 Axes>"
            ],
            "image/png": "[encoded data removed]"
          },
          "metadata": {}
        }
      ]
    },
    {
      "cell_type": "markdown",
      "source": [
        "**Submission Guidelines:**\n",
        "\n",
        "**Google Colab Notebook Submission:**\n",
        "\n",
        "Save your notebook as NLP_Text_Classification_YourName.ipynb.\n",
        "\n",
        "Ensure all code cells are executed, and the output is visible.\n",
        "\n",
        "Include proper documentation and comments explaining each step.\n",
        "\n",
        "**Report Submission (Optional):**\n",
        "\n",
        "Prepare a short report (2-3 pages) summarizing your approach, findings, and model performance.\n",
        "\n",
        "Upload the report along with the Colab Notebook.\n",
        "\n"
      ],
      "metadata": {
        "id": "TDlDzi_jJvYj"
      }
    },
    {
      "cell_type": "markdown",
      "source": [
        "**Grading Criteria:**\n",
        "\n",
        "Correct implementation of NLP preprocessing (30%)\n",
        "\n",
        "Effective use of vectorization techniques (20%)\n",
        "\n",
        "Model accuracy and performance evaluation (30%)\n",
        "\n",
        "Code clarity, documentation, and presentation (20%)"
      ],
      "metadata": {
        "id": "4xnsvv56Nsth"
      }
    },
    {
      "cell_type": "code",
      "source": [],
      "metadata": {
        "id": "Wgh54EcmJmIm"
      },
      "execution_count": null,
      "outputs": []
    },
    {
      "cell_type": "markdown",
      "source": [
        "**Declaration**\n",
        "\n",
        "I, Prathamesh lad, confirm that the work submitted in this assignment is my own and has been completed following academic integrity guidelines. The code is uploaded on my GitHub repository account, and the repository link is provided below:\n",
        "\n",
        "GitHub Repository Link: [Insert GitHub Link]\n",
        "\n",
        "Signature: Prathamesh Anil Lad\n"
      ],
      "metadata": {
        "id": "cox9wwws8QoT"
      }
    },
    {
      "cell_type": "markdown",
      "source": [
        "**Submission Checklist**\n",
        "\n",
        "✔ Ultralitycs Platform Documentsation Like hel file for Given Task\n",
        "\n",
        "✔ Code file (Python Notebook or Script)\n",
        "\n",
        "✔ Dataset or link to the dataset\n",
        "\n",
        "✔ Visualizations (if applicable)\n",
        "\n",
        "✔ Screenshots of model performance metrics\n",
        "\n",
        "✔ Readme File\n",
        "\n",
        "✔ Evaluation Metrics Details and discussion"
      ],
      "metadata": {
        "id": "xXk9pnhy8S2M"
      }
    }
  ]
}